{
 "cells": [
  {
   "cell_type": "markdown",
   "metadata": {
    "isInteractiveWindowMessageCell": true
   },
   "source": [
    "Connected to Python 3.9.6"
   ]
  },
  {
   "cell_type": "code",
   "execution_count": 1,
   "metadata": {},
   "outputs": [
    {
     "name": "stdout",
     "output_type": "stream",
     "text": [
      "2.8335\n"
     ]
    }
   ],
   "source": [
    "class Assignment:\n",
    "    def editAssignment(self):\n",
    "        self.dueDate = input(\"Enter the due date (YYYY-MM-DD): \")\n",
    "        self.priority = input(\"Enter priority High/Medium/Low: \")\n",
    "\n",
    "    def __init__(self):\n",
    "        self.grade = \"A\"\n",
    "        self.dueDate = \"YYYY-MM-DD\"\n",
    "        self.priority = \"Unknown\"\n",
    "        self.editAssignment()\n",
    "\n",
    "    def addGrade(self, grade):\n",
    "        self.grade = grade\n",
    "\n",
    "\n",
    "class Course:\n",
    "    @staticmethod\n",
    "    def gpaCalc(assignments):\n",
    "        points = 0.0\n",
    "        gradeVals = {\n",
    "            \"A\": 4.0,\n",
    "            \"A-\": 3.667,\n",
    "            \"B+\": 3.333,\n",
    "            \"B\": 3.0,\n",
    "            \"B-\": 2.667,\n",
    "            \"C+\": 2.333,\n",
    "            \"C\": 2.0,\n",
    "            \"C-\": 1.667,\n",
    "            \"D+\": 1.333,\n",
    "            \"D-\": 1.0,\n",
    "            \"F\": 0.0\n",
    "        }\n",
    "        for i in assignments:\n",
    "            points += gradeVals[i.grade]\n",
    "        return points/len(assignments)\n",
    "\n",
    "    def __init__(self, assignments):\n",
    "        self.assignments = assignments\n",
    "        self.grade = self.gpaCalc(assignments)\n",
    "\n",
    "    def __str__(self):\n",
    "        return f\"{len(self.assignments)} assignments left.{self.grade}\"\n",
    "\n",
    "    def addAssignment(self, assignment):\n",
    "        self.assignments.append(assignment)\n",
    "\n",
    "    def removeAssignment(self, assignment):\n",
    "        self.assignments.remove(assignment)\n",
    "\n",
    "\n",
    "Trig = Assignment()\n",
    "Trig.addGrade(\"A\")\n",
    "Calc = Assignment()\n",
    "Calc.addGrade(\"C-\")\n",
    "Math = Course([Trig, Calc])\n",
    "print(Math.grade)"
   ]
  },
  {
   "cell_type": "markdown",
   "metadata": {
    "isInteractiveWindowMessageCell": true
   },
   "source": [
    "Restarted Python 3.9.6"
   ]
  }
 ],
 "metadata": {
  "kernelspec": {
   "display_name": "Python 3",
   "language": "python",
   "name": "python3"
  },
  "language_info": {
   "name": "python",
   "version": "3.9.6"
  }
 },
 "nbformat": 4,
 "nbformat_minor": 2
}
